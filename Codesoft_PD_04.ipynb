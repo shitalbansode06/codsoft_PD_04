{
  "nbformat": 4,
  "nbformat_minor": 0,
  "metadata": {
    "colab": {
      "provenance": []
    },
    "kernelspec": {
      "name": "python3",
      "display_name": "Python 3"
    },
    "language_info": {
      "name": "python"
    }
  },
  "cells": [
    {
      "cell_type": "code",
      "execution_count": null,
      "metadata": {
        "colab": {
          "base_uri": "https://localhost:8080/"
        },
        "id": "M4wUOaFzrpP8",
        "outputId": "138d8353-79e7-41ef-b15d-afda39733bc2"
      },
      "outputs": [
        {
          "output_type": "stream",
          "name": "stdout",
          "text": [
            "Welcome to Rock, Paper, Scissors!\n",
            "Enter your choice (rock, paper, or scissors): paper\n",
            "You chose: paper\n",
            "Computer chose: scissors\n",
            "You lose!\n",
            "Do you want to play again? (yes/no): yes\n",
            "Enter your choice (rock, paper, or scissors): scissers\n",
            "Invalid choice. Please choose rock, paper, or scissors.\n",
            "Enter your choice (rock, paper, or scissors): scissors\n",
            "You chose: scissors\n",
            "Computer chose: rock\n",
            "You lose!\n",
            "Do you want to play again? (yes/no): yes\n",
            "Enter your choice (rock, paper, or scissors): rock\n",
            "You chose: rock\n",
            "Computer chose: paper\n",
            "You lose!\n"
          ]
        }
      ],
      "source": [
        "import random\n",
        "\n",
        "def get_computer_choice():\n",
        "    choices = ['rock', 'paper', 'scissors']\n",
        "    return random.choice(choices)\n",
        "\n",
        "def get_user_choice():\n",
        "    choice = input(\"Enter your choice (rock, paper, or scissors): \").lower()\n",
        "    while choice not in ['rock', 'paper', 'scissors']:\n",
        "        print(\"Invalid choice. Please choose rock, paper, or scissors.\")\n",
        "        choice = input(\"Enter your choice (rock, paper, or scissors): \").lower()\n",
        "    return choice\n",
        "\n",
        "def determine_winner(user_choice, computer_choice):\n",
        "    if user_choice == computer_choice:\n",
        "        return \"It's a tie!\"\n",
        "    elif (user_choice == 'rock' and computer_choice == 'scissors') or \\\n",
        "         (user_choice == 'paper' and computer_choice == 'rock') or \\\n",
        "         (user_choice == 'scissors' and computer_choice == 'paper'):\n",
        "        return \"You win!\"\n",
        "    else:\n",
        "        return \"You lose!\"\n",
        "\n",
        "def play_game():\n",
        "    print(\"Welcome to Rock, Paper, Scissors!\")\n",
        "    while True:\n",
        "        user_choice = get_user_choice()\n",
        "        computer_choice = get_computer_choice()\n",
        "\n",
        "        print(f\"You chose: {user_choice}\")\n",
        "        print(f\"Computer chose: {computer_choice}\")\n",
        "\n",
        "        result = determine_winner(user_choice, computer_choice)\n",
        "        print(result)\n",
        "\n",
        "        play_again = input(\"Do you want to play again? (yes/no): \").lower()\n",
        "        if play_again != 'yes':\n",
        "            print(\"Thanks for playing! Goodbye!\")\n",
        "            break\n",
        "\n",
        "play_game()"
      ]
    }
  ]
}